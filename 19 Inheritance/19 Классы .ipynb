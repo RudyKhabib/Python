{
 "cells": [
  {
   "cell_type": "markdown",
   "id": "59c9c19e",
   "metadata": {},
   "source": [
    "# Задача 1. Драка"
   ]
  },
  {
   "cell_type": "code",
   "execution_count": 1,
   "id": "abcf835a",
   "metadata": {},
   "outputs": [
    {
     "name": "stdout",
     "output_type": "stream",
     "text": [
      "Воин 1 атаковал воина 2, у воина 2 здоровья 80 очков\n",
      "Воин 1 атаковал воина 2, у воина 2 здоровья 60 очков\n",
      "Воин 2 атаковал воина 1, у воина 1 здоровья 80 очков\n",
      "Воин 2 атаковал воина 1, у воина 1 здоровья 60 очков\n",
      "Воин 2 атаковал воина 1, у воина 1 здоровья 40 очков\n",
      "Воин 2 атаковал воина 1, у воина 1 здоровья 20 очков\n",
      "Воин 1 атаковал воина 2, у воина 2 здоровья 40 очков\n",
      "Воин 1 атаковал воина 2, у воина 2 здоровья 20 очков\n",
      "Воин 2 атаковал воина 1, у воина 1 здоровья 0 очков\n",
      "Воин 2 одержал победу\n"
     ]
    }
   ],
   "source": [
    "import random\n",
    "import warrior\n",
    "\n",
    "warrior1 = warrior.Warrior()\n",
    "warrior2 = warrior.Warrior()\n",
    "while min(warrior2.health, warrior1.health) > 0:\n",
    "    if random.randint(1, 2) == 1:\n",
    "        warrior1.fight()\n",
    "        print(f'Воин 2 атаковал воина 1, у воина 1 здоровья {warrior1.health} очков')\n",
    "    else:\n",
    "        warrior2.fight()\n",
    "        print(f'Воин 1 атаковал воина 2, у воина 2 здоровья {warrior2.health} очков')\n",
    "if warrior1.health == 0:\n",
    "    print('Воин 2 одержал победу')\n",
    "else:\n",
    "    print('Воин 1 одержал победу')\n",
    " "
   ]
  },
  {
   "cell_type": "markdown",
   "id": "8f0d1af9",
   "metadata": {},
   "source": [
    "# Задача 2. Студенты"
   ]
  },
  {
   "cell_type": "code",
   "execution_count": 3,
   "id": "59b7d4e4",
   "metadata": {},
   "outputs": [
    {
     "name": "stdout",
     "output_type": "stream",
     "text": [
      "Каваиуллин Теймураз 21 5.0\n",
      "Билалова Наль 45 4.84\n",
      "Бушуев Артур 12 4.0\n",
      "Нгуен Роберт 43 3.02\n",
      "Городских Данила 03 3.0\n",
      "Мелешко Александр 04 2.11\n",
      "Дениро Роберт 69 2.0\n",
      "Момяков Каксим 21 1.0\n",
      "Захаров Марк 04 1.0\n",
      "Камалов Арслан 47 -500\n"
     ]
    }
   ],
   "source": [
    "import student\n",
    "\n",
    "\n",
    "stud1 = student.Student('Бушуев Артур', '12', 4.00)\n",
    "stud2 = student.Student('Мелешко Александр', '04', 2.11)\n",
    "stud3 = student.Student('Билалова Наль', '45', 4.84)\n",
    "stud4 = student.Student('Нгуен Роберт', '43', 3.02)\n",
    "stud5 = student.Student('Дениро Роберт', '69', 2.00)\n",
    "stud6 = student.Student('Камалов Арслан', '47', -500)\n",
    "stud7 = student.Student('Момяков Каксим', '21', 1.00)\n",
    "stud8 = student.Student('Захаров Марк', '04', 1.00)\n",
    "stud9 = student.Student('Городских Данила', '03', 3.00)\n",
    "stud10 = student.Student('Каваиуллин Теймураз', '21', 5.00)\n",
    "students_lst = [stud1, stud2, stud3, stud4, stud5, stud6, stud7, stud8, stud9, stud10]\n",
    "[i.sprint() for i in sorted(students_lst, key=lambda x: x.learn, reverse= True)];\n"
   ]
  },
  {
   "cell_type": "markdown",
   "id": "f4f36109",
   "metadata": {},
   "source": [
    "# Задача 3. Окружность"
   ]
  },
  {
   "cell_type": "code",
   "execution_count": 3,
   "id": "877b2dd0",
   "metadata": {},
   "outputs": [
    {
     "name": "stdout",
     "output_type": "stream",
     "text": [
      "3.141592653589793\n",
      "6.283185307179586\n",
      "1 1 2\n",
      "Пересекаются\n"
     ]
    }
   ],
   "source": [
    "import Circle as c\n",
    "\n",
    "\n",
    "circle1 = c.Circle(1, 1, 1)\n",
    "print(circle1.square())\n",
    "print(circle1.perimeter())\n",
    "circle1.increase(2)\n",
    "print(circle1.x, circle1.y, circle1.r)\n",
    "circle2 = c.Circle(-0.4, -0.4, 1)\n",
    "circle2.intersection(circle1)\n"
   ]
  },
  {
   "cell_type": "markdown",
   "id": "d2f37b85",
   "metadata": {},
   "source": [
    "# Задача 4. Отцы, матери и дети"
   ]
  },
  {
   "cell_type": "code",
   "execution_count": 13,
   "id": "3677a0ff",
   "metadata": {},
   "outputs": [
    {
     "name": "stdout",
     "output_type": "stream",
     "text": [
      "Джордж, Не спокойный, Голодный\n",
      "Женя, Не спокойный, Голодный\n",
      "Владимир, 65 лет\n",
      "Джордж успокоен\n",
      "Джордж накормлен\n",
      "Женя успокоен\n",
      "Женя накормлен\n",
      "Джордж, Спокойный, Не голодный\n",
      "Женя, Спокойный, Не голодный\n"
     ]
    }
   ],
   "source": [
    "import Parent\n",
    "import Child\n",
    "\n",
    "child1 = Child.Child('Джордж', 28, 'Не спокойный', 'Голодный')\n",
    "child2 = Child.Child('Женя', 30, 'Не спокойный', 'Голодный')\n",
    "child1.info()\n",
    "child2.info()\n",
    "list_children = [child1, child2]\n",
    "parent1 = Parent.Parent('Владимир', 65, list_children)\n",
    "parent1.info()\n",
    "parent1.calm(list_children.index(child1))\n",
    "parent1.feed(list_children.index(child1))\n",
    "parent1.calm(list_children.index(child2))\n",
    "parent1.feed(list_children.index(child2))\n",
    "child1.info()\n",
    "child2.info()\n"
   ]
  },
  {
   "cell_type": "markdown",
   "id": "1acf0970",
   "metadata": {},
   "source": [
    "# Задача 5. Весёлая ферма "
   ]
  },
  {
   "cell_type": "code",
   "execution_count": 15,
   "id": "5d7f8cde",
   "metadata": {},
   "outputs": [
    {
     "name": "stdout",
     "output_type": "stream",
     "text": [
      "0 ая картошка Отсутствует\n",
      "1 ая картошка Росток\n",
      "2 ая картошка Зеленая\n",
      "3 ая картошка Зрелая\n",
      "4 ая картошка Отсутствует\n",
      "\n",
      "0 ая картошка Росток\n",
      "1 ая картошка Зеленая\n",
      "2 ая картошка Зрелая\n",
      "3 ая картошка Отсутствует\n",
      "4 ая картошка Росток\n",
      "\n",
      "0 ая картошка Зеленая\n",
      "1 ая картошка Зеленая\n",
      "2 ая картошка Зрелая\n",
      "3 ая картошка Отсутствует\n",
      "4 ая картошка Росток\n",
      "\n",
      "0 ая картошка Зеленая\n",
      "1 ая картошка Зеленая\n",
      "2 ая картошка Отсутствует\n",
      "3 ая картошка Росток\n",
      "\n",
      "Садовник Ben ухажвивает за грядкой\n",
      "0 ая картошка Зрелая\n",
      "1 ая картошка Зрелая\n",
      "2 ая картошка Росток\n",
      "3 ая картошка Зеленая\n",
      "\n",
      "0 ая картошка Зрелая\n",
      "1 ая картошка Зеленая\n",
      "\n"
     ]
    }
   ],
   "source": [
    "import Potato\n",
    "import Bed\n",
    "import Gardener\n",
    "\n",
    "\n",
    "pt0 = Potato.Potato(0, 0)\n",
    "pt1 = Potato.Potato(1, 1)\n",
    "pt2 = Potato.Potato(2, 2)\n",
    "pt3 = Potato.Potato(3, 3)\n",
    "pt4 = Potato.Potato(4, 0)\n",
    "lst_pt = [pt0, pt1, pt2, pt3, pt4]\n",
    "bed1 = Bed.Bed(lst_pt)\n",
    "bed1.info()\n",
    "bed1.growth()\n",
    "bed1.info()\n",
    "pt0.growth()\n",
    "bed1.info()\n",
    "gardener1 = Gardener.Gardener('Ben', bed1)\n",
    "gardener1.harvest()\n",
    "bed1.info()\n",
    "gardener1.care()\n",
    "bed1.info()\n",
    "gardener1.harvest()\n",
    "bed1.info()"
   ]
  },
  {
   "cell_type": "markdown",
   "id": "36f8074b",
   "metadata": {},
   "source": [
    "# Задача 6. Магия"
   ]
  },
  {
   "cell_type": "code",
   "execution_count": 14,
   "id": "16ee4f7d",
   "metadata": {},
   "outputs": [
    {
     "name": "stdout",
     "output_type": "stream",
     "text": [
      "Молния\n",
      "Пыль\n",
      "Грязь\n",
      "Лава\n",
      "Пар\n",
      "Шторм\n",
      "Глина\n",
      "Стекло\n",
      "Песчаная буря\n"
     ]
    }
   ],
   "source": [
    "import Magic\n",
    "\n",
    "\n",
    "fire = Magic.Fire()\n",
    "water = Magic.Water()\n",
    "earth = Magic.Earth()\n",
    "air = Magic.Air()\n",
    "sand = Magic.Sand()\n",
    "lightning = fire + air\n",
    "dust = earth + air\n",
    "dirt = water + earth\n",
    "lava = earth + fire\n",
    "steam = fire + water\n",
    "storm = air + water\n",
    "clay = water + sand\n",
    "glass = sand + fire\n",
    "sandstorm = sand + air\n",
    "lightning.info()\n",
    "dust.info()\n",
    "dirt.info()\n",
    "lava.info()\n",
    "steam.info()\n",
    "storm.info()\n",
    "clay.info()\n",
    "glass.info()\n",
    "sandstorm.info()\n",
    "s = fire + lava\n"
   ]
  },
  {
   "cell_type": "markdown",
   "id": "44e15d0d",
   "metadata": {},
   "source": [
    "# Задача 7. Совместное проживание"
   ]
  },
  {
   "cell_type": "code",
   "execution_count": 25,
   "id": "34834304",
   "metadata": {},
   "outputs": [
    {
     "name": "stdout",
     "output_type": "stream",
     "text": [
      "Фрэнк\n",
      "Живой\n",
      "Денег 530\n",
      "Сытость 10\n",
      "Еды 20\n",
      "\n",
      "Лариса\n",
      "Живой\n",
      "Денег 530\n",
      "Сытость 20\n",
      "Еды 20\n"
     ]
    }
   ],
   "source": [
    "import Human\n",
    "import House\n",
    "\n",
    "\n",
    "house1 = House.House()\n",
    "human1 = Human.Human('Фрэнк', house1)\n",
    "human2 = Human.Human('Лариса', house1)\n",
    "for _ in range(365):\n",
    "    if not human1.life or not human2.life:\n",
    "        break\n",
    "    routine(human1)\n",
    "    routine(human2)\n",
    "\n",
    "human1.info()\n",
    "print()\n",
    "human2.info()\n"
   ]
  },
  {
   "cell_type": "markdown",
   "id": "87c549a3",
   "metadata": {},
   "source": [
    "# Задача 8. Блек-джек"
   ]
  },
  {
   "cell_type": "code",
   "execution_count": 4,
   "id": "e8102600",
   "metadata": {},
   "outputs": [
    {
     "name": "stdout",
     "output_type": "stream",
     "text": [
      "Игра начинается: \n",
      "Ваши карты: \n",
      "5 pikes\n",
      "5 hearts\n",
      "\n",
      "Возьмете карту? да\n",
      "Ваши карты: \n",
      "5 pikes\n",
      "5 hearts\n",
      "7 clover\n",
      "\n",
      "Вы победили!У компьютера 23 , у вас 17\n"
     ]
    },
    {
     "ename": "NameError",
     "evalue": "name 'copy' is not defined",
     "output_type": "error",
     "traceback": [
      "\u001b[1;31m---------------------------------------------------------------------------\u001b[0m",
      "\u001b[1;31mNameError\u001b[0m                                 Traceback (most recent call last)",
      "Input \u001b[1;32mIn [4]\u001b[0m, in \u001b[0;36m<cell line: 43>\u001b[1;34m()\u001b[0m\n\u001b[0;32m     41\u001b[0m \u001b[38;5;28;01melse\u001b[39;00m:\n\u001b[0;32m     42\u001b[0m     \u001b[38;5;28mprint\u001b[39m(\u001b[38;5;124mf\u001b[39m\u001b[38;5;124m'\u001b[39m\u001b[38;5;124mНичья, у компьютера \u001b[39m\u001b[38;5;132;01m{\u001b[39;00mcomputer_counter\u001b[38;5;132;01m}\u001b[39;00m\u001b[38;5;124m , у вас \u001b[39m\u001b[38;5;132;01m{\u001b[39;00muser_counter\u001b[38;5;132;01m}\u001b[39;00m\u001b[38;5;124m \u001b[39m\u001b[38;5;124m'\u001b[39m)\n\u001b[1;32m---> 43\u001b[0m Card\u001b[38;5;241m.\u001b[39mCard\u001b[38;5;241m.\u001b[39mlist_of_cards \u001b[38;5;241m=\u001b[39m \u001b[43mcopy\u001b[49m\u001b[38;5;241m.\u001b[39mdeepcopy(lst_crds_stat)\n\u001b[0;32m     44\u001b[0m \u001b[38;5;28mprint\u001b[39m(\u001b[38;5;28mlen\u001b[39m(Card\u001b[38;5;241m.\u001b[39mCard\u001b[38;5;241m.\u001b[39mlist_of_cards))\n",
      "\u001b[1;31mNameError\u001b[0m: name 'copy' is not defined"
     ]
    }
   ],
   "source": [
    "import Card \n",
    "import copy\n",
    "\n",
    "\n",
    "print('Игра начинается: ')\n",
    "us1 = Card.Card()\n",
    "us2 = Card.Card()\n",
    "comp1 = Card.Card()\n",
    "comp2 = Card.Card()\n",
    "user_list = [us1, us2]\n",
    "user_counter = us1.count()\n",
    "user_counter += us2.count(user_counter)\n",
    "computer_counter = comp1.count()\n",
    "computer_counter += comp2.count(computer_counter)\n",
    "print('Ваши карты: ')\n",
    "[print(c.info()) for c in user_list]\n",
    "print()\n",
    "defeat = False\n",
    "answer = input('Возьмете карту? ')\n",
    "while not defeat and answer.lower() == 'да':\n",
    "    us_card = Card.Card()\n",
    "    comp_card = Card.Card()\n",
    "    user_list.append(us_card)\n",
    "    user_counter += us_card.count(user_counter)\n",
    "    computer_counter += comp_card.count(computer_counter)\n",
    "    print('Ваши карты: ')\n",
    "    [print(c.info()) for c in user_list]\n",
    "    print()\n",
    "    if user_counter >= 21 or computer_counter >= 21:\n",
    "        defeat = True\n",
    "    else:\n",
    "        answer = input('Возьмете карту? ')\n",
    "        print()\n",
    "if user_counter < computer_counter <= 21:\n",
    "    print(f'Победил компьютер, у него {computer_counter} , у вас {user_counter}')\n",
    "elif computer_counter < user_counter <= 21:\n",
    "    print(f'Вы победили!У компьютера {computer_counter} , у вас {user_counter}')\n",
    "elif user_counter <= 21 < computer_counter:\n",
    "    print(f'Вы победили!У компьютера {computer_counter} , у вас {user_counter}')\n",
    "elif computer_counter <= 21 < user_counter:\n",
    "    print(f'Победил компьютер, у него {computer_counter} , у вас {user_counter}')\n",
    "else:\n",
    "    print(f'Ничья, у компьютера {computer_counter} , у вас {user_counter} ')\n",
    "Card.Card.list_of_cards = copy.deepcopy(Card.Card.lst_crds_stat)\n",
    "print(len(Card.Card.list_of_cards))\n"
   ]
  },
  {
   "cell_type": "markdown",
   "id": "2c6658d0",
   "metadata": {},
   "source": [
    "# Задача 9. Крестики-нолики"
   ]
  },
  {
   "cell_type": "code",
   "execution_count": 40,
   "id": "0eae8766",
   "metadata": {},
   "outputs": [
    {
     "name": "stdout",
     "output_type": "stream",
     "text": [
      "1 | 2 | 3\n",
      "- - - - - \n",
      "4 | 5 | 6\n",
      "- - - - - \n",
      "7 | 8 | 9\n",
      "Введите номер: 1\n",
      "x | 2 | 3\n",
      "- - - - - \n",
      "4 | 5 | 6\n",
      "- - - - - \n",
      "7 | 8 | 9\n",
      "Введите номер: вфы\n"
     ]
    },
    {
     "ename": "ValueError",
     "evalue": "invalid literal for int() with base 10: 'вфы'",
     "output_type": "error",
     "traceback": [
      "\u001b[1;31m---------------------------------------------------------------------------\u001b[0m",
      "\u001b[1;31mValueError\u001b[0m                                Traceback (most recent call last)",
      "Input \u001b[1;32mIn [40]\u001b[0m, in \u001b[0;36m<cell line: 12>\u001b[1;34m()\u001b[0m\n\u001b[0;32m     11\u001b[0m j \u001b[38;5;241m=\u001b[39m \u001b[38;5;241m0\u001b[39m\n\u001b[0;32m     12\u001b[0m \u001b[38;5;28;01mwhile\u001b[39;00m \u001b[38;5;129;01mnot\u001b[39;00m win \u001b[38;5;129;01mand\u001b[39;00m j \u001b[38;5;241m<\u001b[39m \u001b[38;5;241m9\u001b[39m:\n\u001b[1;32m---> 13\u001b[0m     numb \u001b[38;5;241m=\u001b[39m \u001b[38;5;28;43mint\u001b[39;49m\u001b[43m(\u001b[49m\u001b[38;5;28;43minput\u001b[39;49m\u001b[43m(\u001b[49m\u001b[38;5;124;43m'\u001b[39;49m\u001b[38;5;124;43mВведите номер: \u001b[39;49m\u001b[38;5;124;43m'\u001b[39;49m\u001b[43m)\u001b[49m\u001b[43m)\u001b[49m\n\u001b[0;32m     14\u001b[0m     \u001b[38;5;28;01mif\u001b[39;00m j \u001b[38;5;241m%\u001b[39m \u001b[38;5;241m2\u001b[39m \u001b[38;5;241m==\u001b[39m \u001b[38;5;241m0\u001b[39m:\n\u001b[0;32m     15\u001b[0m         symb \u001b[38;5;241m=\u001b[39m \u001b[38;5;124m'\u001b[39m\u001b[38;5;124mx\u001b[39m\u001b[38;5;124m'\u001b[39m\n",
      "\u001b[1;31mValueError\u001b[0m: invalid literal for int() with base 10: 'вфы'"
     ]
    }
   ],
   "source": [
    "def print_play(lst_play):\n",
    "    for i_play in range(3):\n",
    "        print(f'{lst_play[i_play * 3]} | {lst_play[1 + i_play * 3]} | {lst_play[2 + i_play * 3]}')\n",
    "        if i_play != 2:\n",
    "            print('- ' * 5)\n",
    "\n",
    "\n",
    "lst = [1, 2, 3, 4, 5, 6, 7, 8, 9]\n",
    "print_play(lst)\n",
    "win = False\n",
    "j = 0\n",
    "while not win and j < 9:\n",
    "    numb = int(input('Введите номер: '))\n",
    "    if j % 2 == 0:\n",
    "        symb = 'x'\n",
    "    else:\n",
    "        symb = 'o'\n",
    "    lst[numb - 1] = symb\n",
    "    print_play(lst)\n",
    "    for i in range(3):\n",
    "        if lst[i * 3] == lst[i * 3 + 1] == lst[i * 3 + 2]:\n",
    "            win = True\n",
    "    for i in range(3):\n",
    "        if lst[i] == lst[i + 3] == lst[i + 6]:\n",
    "            win = True\n",
    "    if lst[0] == lst[4] == lst[8] or lst[2] == lst[4] == lst[6]:\n",
    "        win = True\n",
    "    j += 1\n",
    "if not win:\n",
    "    print('Ничья')\n",
    "else:\n",
    "    print(f'Победил {symb}')\n"
   ]
  },
  {
   "cell_type": "code",
   "execution_count": null,
   "id": "3ce77de3",
   "metadata": {},
   "outputs": [],
   "source": []
  }
 ],
 "metadata": {
  "kernelspec": {
   "display_name": "Python 3 (ipykernel)",
   "language": "python",
   "name": "python3"
  },
  "language_info": {
   "codemirror_mode": {
    "name": "ipython",
    "version": 3
   },
   "file_extension": ".py",
   "mimetype": "text/x-python",
   "name": "python",
   "nbconvert_exporter": "python",
   "pygments_lexer": "ipython3",
   "version": "3.10.2"
  }
 },
 "nbformat": 4,
 "nbformat_minor": 5
}
