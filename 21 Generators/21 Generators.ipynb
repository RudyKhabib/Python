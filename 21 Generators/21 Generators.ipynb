{
 "cells": [
  {
   "cell_type": "markdown",
   "id": "2f186b65",
   "metadata": {},
   "source": [
    "# Задача 1. Квадраты чисел"
   ]
  },
  {
   "cell_type": "code",
   "execution_count": 1,
   "id": "c0af557a",
   "metadata": {},
   "outputs": [
    {
     "name": "stdout",
     "output_type": "stream",
     "text": [
      "Введите число: 4\n",
      "1\n",
      "4\n",
      "9\n",
      "16\n"
     ]
    }
   ],
   "source": [
    "class Square:\n",
    "    def __iter__(self):\n",
    "        return self\n",
    "\n",
    "    def __init__(self, number):\n",
    "        self.limit = number\n",
    "        self.counter = 0\n",
    "\n",
    "    def __next__(self):\n",
    "        if self.counter < self.limit:\n",
    "            self.counter += 1\n",
    "            return self.counter ** 2\n",
    "        else:\n",
    "            return StopIteration\n",
    "\n",
    "\n",
    "def square(numb):\n",
    "    for i in range(1, numb):\n",
    "        yield i**2\n",
    "\n",
    "\n",
    "n = int(input('Введите число: '))\n",
    "squares = (i ** 2 for i in range(1, n + 1))\n",
    "squares_class = Square(n)\n",
    "print(next(squares_class))\n",
    "print(next(squares_class))\n",
    "print(next(squares_class))\n",
    "print(next(squares_class))"
   ]
  },
  {
   "cell_type": "markdown",
   "id": "1e31b109",
   "metadata": {},
   "source": [
    "# Задача 2. Рефакторинг"
   ]
  },
  {
   "cell_type": "code",
   "execution_count": 2,
   "id": "e66e1df3",
   "metadata": {},
   "outputs": [
    {
     "name": "stdout",
     "output_type": "stream",
     "text": [
      "2 3 6\n",
      "2 8 16\n",
      "2 4 8\n",
      "2 9 18\n",
      "5 3 15\n",
      "5 8 40\n",
      "5 4 20\n",
      "5 9 45\n",
      "7 3 21\n",
      "7 8 56\n",
      "Found!!!\n"
     ]
    }
   ],
   "source": [
    "def founder(lst1, lst2):\n",
    "    for i in lst1:\n",
    "        for j in lst2:\n",
    "            print(i, j, i * j)\n",
    "            yield i * j\n",
    "\n",
    "\n",
    "list_1 = [2, 5, 7, 10]\n",
    "list_2 = [3, 8, 4, 9]\n",
    "to_find = 56\n",
    "find = founder(list_1, list_2)\n",
    "numb_find = next(find)\n",
    "while numb_find != to_find:\n",
    "    numb_find = next(find)\n",
    "print('Found!!!')\n"
   ]
  },
  {
   "cell_type": "markdown",
   "id": "802a9f75",
   "metadata": {},
   "source": [
    "# Задача 4. Последовательность Хофштадтера"
   ]
  },
  {
   "cell_type": "code",
   "execution_count": 3,
   "id": "958b6166",
   "metadata": {},
   "outputs": [
    {
     "name": "stdout",
     "output_type": "stream",
     "text": [
      "1 1 2 3 3 4 5 5 6 "
     ]
    }
   ],
   "source": [
    "def QHofstadter(numb):\n",
    "    if numb == 1 or numb == 2:\n",
    "        return 1\n",
    "    else:\n",
    "        return QHofstadter(numb - QHofstadter(numb - 1)) + QHofstadter(numb - QHofstadter(numb - 2))\n",
    "\n",
    "\n",
    "def gen_q(lst):\n",
    "    if lst[0] == lst[1]:\n",
    "        for i in range(1, lst[0]):\n",
    "            yield QHofstadter(i)\n",
    "    else:\n",
    "        return StopIteration\n",
    "\n",
    "\n",
    "for i in gen_q([10, 10]):\n",
    "    print(i, end=' ')\n"
   ]
  },
  {
   "cell_type": "markdown",
   "id": "3031f74f",
   "metadata": {},
   "source": [
    "# Задача 6. Односвязный список"
   ]
  },
  {
   "cell_type": "code",
   "execution_count": 4,
   "id": "841d145a",
   "metadata": {},
   "outputs": [
    {
     "name": "stdout",
     "output_type": "stream",
     "text": [
      "1\n",
      "2\n",
      "3\n"
     ]
    }
   ],
   "source": [
    "import node\n",
    "\n",
    "\n",
    "ll = node.Node(1)\n",
    "ll.append(2)\n",
    "ll.append(3)\n",
    "ll.show()\n"
   ]
  }
 ],
 "metadata": {
  "kernelspec": {
   "display_name": "Python 3 (ipykernel)",
   "language": "python",
   "name": "python3"
  },
  "language_info": {
   "codemirror_mode": {
    "name": "ipython",
    "version": 3
   },
   "file_extension": ".py",
   "mimetype": "text/x-python",
   "name": "python",
   "nbconvert_exporter": "python",
   "pygments_lexer": "ipython3",
   "version": "3.10.2"
  }
 },
 "nbformat": 4,
 "nbformat_minor": 5
}
