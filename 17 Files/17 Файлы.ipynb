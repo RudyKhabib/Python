{
 "cells": [
  {
   "cell_type": "markdown",
   "id": "13ae5e5f",
   "metadata": {},
   "source": [
    "# Задача 1. Сумма чисел 2"
   ]
  },
  {
   "cell_type": "code",
   "execution_count": 5,
   "id": "5a73b593",
   "metadata": {},
   "outputs": [],
   "source": [
    "import os\n",
    "\n",
    "numbs = 0\n",
    "# loc = os.path.join('C:', 'Python programs', 'numbers.txt')\n",
    "with open('C:\\Python programs\\\\numbers.txt') as inf:\n",
    "    for line in inf:\n",
    "        if line.strip() != '':\n",
    "            numbs += int(line.strip())\n",
    "with open('C:\\Python programs\\\\answer.txt', 'w') as ouf:\n",
    "    ouf.write(str(numbs))"
   ]
  },
  {
   "cell_type": "markdown",
   "id": "5ce7cf6c",
   "metadata": {},
   "source": [
    "# Задача 2. Дзен Пайтона"
   ]
  },
  {
   "cell_type": "code",
   "execution_count": 7,
   "id": "e8f37dc7",
   "metadata": {},
   "outputs": [
    {
     "name": "stdout",
     "output_type": "stream",
     "text": [
      "Namespaces are one honking great idea -- let's do more of those!\n",
      "If the implementation is easy to explain, it may be a good idea.\n",
      "If the implementation is hard to explain, it's a bad idea.\n",
      "Although never is often better than *right* now.\n",
      "Now is better than never.\n",
      "Although that way may not be obvious at first unless you're Dutch.\n",
      "There should be one-- and preferably only one --obvious way to do it.\n",
      "In the face of ambiguity, refuse the temptation to guess.\n",
      "Unless explicitly silenced.\n",
      "Errors should never pass silently.\n",
      "Although practicality beats purity.\n",
      "Special cases aren't special enough to break the rules.\n",
      "Readability counts.\n",
      "Sparse is better than dense.\n",
      "Flat is better than nested.\n",
      "Complex is better than complicated.\n",
      "Simple is better than complex.\n",
      "Explicit is better than implicit.\n",
      "Beautiful is better than ugly.\n"
     ]
    }
   ],
   "source": [
    "lst_lines = list()\n",
    "with open('C:\\Python programs\\\\zen.txt') as inf:\n",
    "    for line in inf:\n",
    "        lst_lines.append(line.strip())\n",
    "[print(i) for i in lst_lines[::-1]];\n"
   ]
  },
  {
   "cell_type": "markdown",
   "id": "4103adf7",
   "metadata": {},
   "source": [
    "# Задача 3. Дзен Пайтона 2"
   ]
  },
  {
   "cell_type": "code",
   "execution_count": 8,
   "id": "6767284f",
   "metadata": {},
   "outputs": [
    {
     "name": "stdout",
     "output_type": "stream",
     "text": [
      "Количество строк 19\n",
      "Количество слов 137\n",
      "Количестов букв 652\n",
      "Буква, которая встречается в тексте наименьшее количество раз - k\n"
     ]
    }
   ],
   "source": [
    "lst_lines = list()\n",
    "dct_letters = dict()\n",
    "with open('C:\\Python programs\\\\zen.txt') as inf:\n",
    "    for line in inf:\n",
    "        lst_lines.append(line.strip())\n",
    "count_lines = len(lst_lines)\n",
    "count_word = 0\n",
    "count_letter = 0\n",
    "count_symbols = 0\n",
    "alphabet = 'abcdefghijklmnopqrstuvwxyz'\n",
    "for line in lst_lines:\n",
    "    count_word += len(line.split())\n",
    "    for parser in line.lower():\n",
    "        count_symbols += 1\n",
    "        if parser in alphabet:\n",
    "            count_letter += 1\n",
    "            if dct_letters.get(parser) is None:\n",
    "                dct_letters[parser] = 1\n",
    "            else:\n",
    "                dct_letters[parser] += 1\n",
    "min_ltr = count_symbols\n",
    "ltr = ''\n",
    "for key, value in dct_letters.items():\n",
    "    if value < min_ltr:\n",
    "        min_ltr = value\n",
    "        ltr = key\n",
    "print('Количество строк', count_lines)\n",
    "print('Количество слов', count_word)\n",
    "print('Количестов букв', count_letter)\n",
    "print('Буква, которая встречается в тексте наименьшее количество раз -', ltr)"
   ]
  },
  {
   "cell_type": "markdown",
   "id": "496f6773",
   "metadata": {},
   "source": [
    "# Задача 4. Файлы и папки"
   ]
  },
  {
   "cell_type": "code",
   "execution_count": 3,
   "id": "5c234b38",
   "metadata": {},
   "outputs": [
    {
     "name": "stdout",
     "output_type": "stream",
     "text": [
      "154.634765625\n",
      "Размер каталога (в кб): 154.634765625\n",
      "Количество подкатологов: 0\n",
      "Количество файлов: 3\n"
     ]
    }
   ],
   "source": [
    "import os\n",
    "from os.path import join, getsize\n",
    "\n",
    "summ = 0\n",
    "for root, dirs, files in os.walk('C:\\\\Python programs'):\n",
    "    summ += sum(getsize(join(root, name)) for name in files)\n",
    "print(summ / 1024)\n",
    "print('Размер каталога (в кб):', summ / 1024)\n",
    "print('Количество подкатологов:', len(dirs))\n",
    "print('Количество файлов:', len(files))"
   ]
  },
  {
   "cell_type": "markdown",
   "id": "00f414cb",
   "metadata": {},
   "source": [
    "# Задача 5. Сохранение"
   ]
  },
  {
   "cell_type": "code",
   "execution_count": 2,
   "id": "d7bb1e93",
   "metadata": {},
   "outputs": [
    {
     "name": "stdout",
     "output_type": "stream",
     "text": [
      "Введите строку: popa\n",
      "Куда хотите сохранить документ? Введите последовательность папок (через два пробела):\n",
      "C:  Python programs\n",
      "Введите имя файла: shep\n",
      "Вы действительно хотите перезаписать файл? да\n",
      "Файл успешно перезаписан!\n",
      "Содержимое файла:\n",
      "popa\n"
     ]
    }
   ],
   "source": [
    "txt = input('Введите строку: ')\n",
    "print('Куда хотите сохранить документ? Введите последовательность папок (через два пробела):')\n",
    "lst = [i for i in input().split('  ')]\n",
    "loc_str = \"\\\\\".join(lst)\n",
    "name_file = input('Введите имя файла: ')\n",
    "loc_str = f'{loc_str}\\\\{name_file}.txt'\n",
    "old_file_check = True\n",
    "desire_check = True\n",
    "try:\n",
    "    with open(loc_str, 'r') as inf:\n",
    "        inf.read()\n",
    "except FileNotFoundError:\n",
    "    old_file_check = False\n",
    "if old_file_check:\n",
    "    answer = input('Вы действительно хотите перезаписать файл? ')\n",
    "    if answer.lower() != 'да':\n",
    "        desire_check = False\n",
    "if not old_file_check or desire_check:\n",
    "    with open(loc_str, 'w') as ouf:\n",
    "        ouf.write(txt)\n",
    "    if not old_file_check:\n",
    "        print('Файл успешно сохранен!')\n",
    "    else:\n",
    "        print('Файл успешно перезаписан!')\n",
    "    with open(loc_str, 'r') as inf:\n",
    "        check_txt = inf.read()\n",
    "    print('Содержимое файла:')\n",
    "    print(check_txt)\n"
   ]
  },
  {
   "cell_type": "markdown",
   "id": "63b4b419",
   "metadata": {},
   "source": [
    "# Задача 6. Паранойя"
   ]
  },
  {
   "cell_type": "code",
   "execution_count": 9,
   "id": "fac0d0be",
   "metadata": {},
   "outputs": [],
   "source": [
    "alphabet = 'abcdefghijklmnopqrstuvwxyz'\n",
    "big_alphabet = alphabet.upper()\n",
    "lines_lst = list()\n",
    "shift = 1\n",
    "with open('C:\\Python programs\\\\usual_text.txt', 'r') as inf:\n",
    "    for line in inf:\n",
    "        local_lst = list()\n",
    "        for parser in line.strip():\n",
    "            if parser in alphabet:\n",
    "                i = alphabet.index(parser)\n",
    "                local_lst.append(alphabet[i + shift])\n",
    "            elif parser in big_alphabet:\n",
    "                i = big_alphabet.index(parser)\n",
    "                local_lst.append(big_alphabet[i + shift])\n",
    "            else:\n",
    "                local_lst.append(parser)\n",
    "        lines_lst.append(''.join(local_lst))\n",
    "        shift += 1\n",
    "with open('C:\\Python programs\\\\cipher_text.txt', 'w') as ouf:\n",
    "    for line in lines_lst:\n",
    "        ouf.write(f'{line}\\n')\n"
   ]
  },
  {
   "cell_type": "markdown",
   "id": "edfb073d",
   "metadata": {},
   "source": [
    "# Задача 7. Турнир"
   ]
  },
  {
   "cell_type": "code",
   "execution_count": 12,
   "id": "f8c6f5ef",
   "metadata": {},
   "outputs": [],
   "source": [
    "lst_participant = list()\n",
    "with open('C:\\Python programs\\\\first_tour.txt', 'r') as inf:\n",
    "    number_k = int(inf.readline())\n",
    "    for line in inf:\n",
    "        local_lst = line.strip().split()[::-1]\n",
    "        if int(local_lst[0]) > number_k:\n",
    "            lst_participant.append(local_lst)\n",
    "with open('C:\\Python programs\\\\second_tour.txt', 'w') as ouf:\n",
    "    ouf.write(f'{str(len(lst_participant))}\\n')\n",
    "    i = 1\n",
    "    for ppl in sorted(lst_participant)[::-1]:\n",
    "        ouf.write(f'{str(i)}) {ppl[1][0]}. {ppl[2]} {ppl[0]}\\n')\n",
    "        i += 1\n",
    "        "
   ]
  },
  {
   "cell_type": "markdown",
   "id": "55de17b1",
   "metadata": {},
   "source": [
    "# Задача 8. Частотный анализ"
   ]
  },
  {
   "cell_type": "code",
   "execution_count": 13,
   "id": "37ad0a6e",
   "metadata": {},
   "outputs": [],
   "source": [
    "alphabet = 'abcdefghijklmnopqrstuvwxyz'\n",
    "letter_list = list()\n",
    "all_len = 0\n",
    "with open('C:\\Python programs\\\\mamamylaramu.txt', 'r') as inf:\n",
    "    txt = inf.read()\n",
    "for letter in alphabet:\n",
    "    if letter in txt.lower():\n",
    "        letter_list.append([-txt.lower().count(letter), letter])\n",
    "        all_len += txt.lower().count(letter)\n",
    "with open('C:\\Python programs\\\\analysis.txt', 'w') as ouf:\n",
    "    for i in sorted(letter_list):\n",
    "        ouf.write(f'{i[1]} {round(-i[0] / all_len, 3)}\\n')\n"
   ]
  }
 ],
 "metadata": {
  "kernelspec": {
   "display_name": "Python 3 (ipykernel)",
   "language": "python",
   "name": "python3"
  },
  "language_info": {
   "codemirror_mode": {
    "name": "ipython",
    "version": 3
   },
   "file_extension": ".py",
   "mimetype": "text/x-python",
   "name": "python",
   "nbconvert_exporter": "python",
   "pygments_lexer": "ipython3",
   "version": "3.10.2"
  }
 },
 "nbformat": 4,
 "nbformat_minor": 5
}
