{
 "cells": [
  {
   "cell_type": "markdown",
   "id": "57c825de",
   "metadata": {},
   "source": [
    "# Задача 1. Ревью кода\n"
   ]
  },
  {
   "cell_type": "code",
   "execution_count": 1,
   "id": "425d2427",
   "metadata": {},
   "outputs": [
    {
     "name": "stdout",
     "output_type": "stream",
     "text": [
      "Bob Vazovski - 23\n",
      "Rob Stepanov - 24\n",
      "Alexander Krug - 22\n",
      "['biology, swimming', 'math', 'computer games', 'running', 'languages', 'health food'] 20\n"
     ]
    }
   ],
   "source": [
    "def fdict(dct):\n",
    "    fcounter = 0\n",
    "    finterests = []\n",
    "    for values in dct.values():\n",
    "        fcounter += len(values['surname'])\n",
    "        for sub in values['interests']:\n",
    "            finterests.append(sub)\n",
    "    return finterests, fcounter\n",
    "\n",
    "\n",
    "students = {\n",
    "    1: {\n",
    "        'name': 'Bob',\n",
    "        'surname': 'Vazovski',\n",
    "        'age': 23,\n",
    "        'interests': ['biology, swimming']\n",
    "    },\n",
    "    2: {\n",
    "        'name': 'Rob',\n",
    "        'surname': 'Stepanov',\n",
    "        'age': 24,\n",
    "        'interests': ['math', 'computer games', 'running']\n",
    "    },\n",
    "    3: {\n",
    "        'name': 'Alexander',\n",
    "        'surname': 'Krug',\n",
    "        'age': 22,\n",
    "        'interests': ['languages', 'health food']\n",
    "    }}\n",
    "[print(values['name'], values['surname'], '-', values['age']) for values in students.values()]\n",
    "interests, len_surnames = fdict(students)\n",
    "print(interests, len_surnames)\n"
   ]
  },
  {
   "cell_type": "markdown",
   "id": "ed9d3ac6",
   "metadata": {},
   "source": [
    "# Задача 2. Универсальная программа\n"
   ]
  },
  {
   "cell_type": "code",
   "execution_count": 5,
   "id": "d6397c80",
   "metadata": {},
   "outputs": [
    {
     "name": "stdout",
     "output_type": "stream",
     "text": [
      "['0', '1', '2', '3', '5', '7']\n"
     ]
    }
   ],
   "source": [
    "def fcrypt(smth):\n",
    "    return [smth[i] for i in range(len(smth)) if is_prime(i)]\n",
    "\n",
    "\n",
    "def is_prime(x):\n",
    "    simple_check = True\n",
    "    for i in range(2, x):\n",
    "        if x % i == 0:\n",
    "            simple_check = False\n",
    "            break\n",
    "    return simple_check\n",
    "\n",
    "\n",
    "cort = (0, 1, 2, 3, 4, 5, 6, 7, 8, 9)\n",
    "str_oka = '0123456789'\n",
    "lst = [0, 1, 2, 3, 4, 5, 6, 7, 8, 9]\n",
    "dct = {0: '0', 1: '1', 2: '2', 3: '3', 4: '4', 5: '5', 6: '6', 7: '7', 8: '8', 9: '9'}\n",
    "print(fcrypt(cort))\n"
   ]
  },
  {
   "cell_type": "markdown",
   "id": "1a8b223b",
   "metadata": {},
   "source": [
    "# Задача 3. Функция"
   ]
  },
  {
   "cell_type": "code",
   "execution_count": 14,
   "id": "a5512950",
   "metadata": {},
   "outputs": [
    {
     "name": "stdout",
     "output_type": "stream",
     "text": [
      "Введите элемент: 0\n",
      "(0, 1, 2, 3, 4, 5, 1, 6, 7)\n"
     ]
    }
   ],
   "source": [
    "def f_cort(cort, elem):\n",
    "    if cort.count(elem) == 1:\n",
    "        c_start = cort.index(elem)\n",
    "        return cort[c_start:]\n",
    "    elif cort.count(elem) == 0:\n",
    "        return ()\n",
    "    else:\n",
    "        c_start = cort.index(elem)\n",
    "        c_end = cort[c_start + 1:].index(elem)\n",
    "        return cort[c_start:c_start + c_end + 2]\n",
    "\n",
    "\n",
    "element = int(input('Введите элемент: '))\n",
    "tpl = (-2, -1, 0, 1, 2, 3, 4, 5, 1, 6, 7)\n",
    "print(f_cort(tpl, element))\n"
   ]
  },
  {
   "cell_type": "markdown",
   "id": "7cb0ff5e",
   "metadata": {},
   "source": [
    "# Задача 4. Игроки"
   ]
  },
  {
   "cell_type": "code",
   "execution_count": 15,
   "id": "d31fa9b0",
   "metadata": {},
   "outputs": [
    {
     "name": "stdout",
     "output_type": "stream",
     "text": [
      "[('Ivan', 'Volkin', 10, 5, 13), ('Bob', 'Robbin', 7, 5, 14), ('Rob', 'Bobbin', 12, 8, 2)]\n"
     ]
    }
   ],
   "source": [
    "players = {\n",
    "    (\"Ivan\", \"Volkin\"): (10, 5, 13),\n",
    "    (\"Bob\", \"Robbin\"): (7, 5, 14),\n",
    "    (\"Rob\", \"Bobbin\"): (12, 8, 2)\n",
    "}\n",
    "lst_players = []\n",
    "[lst_players.append(key + values) for key, values in players.items()]\n",
    "print(lst_players)\n"
   ]
  },
  {
   "cell_type": "markdown",
   "id": "9a0e57fa",
   "metadata": {},
   "source": [
    "# Задача 5. Одна семья"
   ]
  },
  {
   "cell_type": "code",
   "execution_count": 10,
   "id": "be5dd953",
   "metadata": {},
   "outputs": [
    {
     "name": "stdout",
     "output_type": "stream",
     "text": [
      "Введите фамилию: автозаводский\n",
      "Автозаводский Егор\n",
      "Автозаводская Авдотья\n"
     ]
    }
   ],
   "source": [
    "family = {\n",
    "    'Сидоров Никита': 35,\n",
    "    'Сидорова Алина': 34,\n",
    "    'Сидоров Павел': 10,\n",
    "    'Автозаводский Егор': 104,\n",
    "    'Автозаводская Авдотья': 56,\n",
    "    'Павелецко Андрей': 14,\n",
    "    'Павелецко Маруся': 12\n",
    "}\n",
    "sname = input('Введите фамилию: ').lower()\n",
    "for key, value in family.items():\n",
    "    local_id = key.split()\n",
    "    if local_id[0].lower() == sname or local_id[0][:-1].lower() == sname or local_id[0][:-2].lower() == sname[:-2]:\n",
    "        print(key)\n"
   ]
  },
  {
   "cell_type": "markdown",
   "id": "1ea5cf79",
   "metadata": {},
   "source": [
    "# Задача 6. По парам\n"
   ]
  },
  {
   "cell_type": "code",
   "execution_count": 15,
   "id": "3092fcc4",
   "metadata": {},
   "outputs": [
    {
     "name": "stdout",
     "output_type": "stream",
     "text": [
      "[(0, 1), (2, 3), (4, 5), (6, 7), (8, 9)]\n"
     ]
    }
   ],
   "source": [
    "lst = [0, 1, 2, 3, 4, 5, 6, 7, 8, 9]\n",
    "c_lst = []\n",
    "[c_lst.append((lst[i - 1], lst[i])) for i in range(len(lst)) if i % 2 == 1]\n",
    "print(c_lst)\n"
   ]
  },
  {
   "cell_type": "markdown",
   "id": "8cdbe26b",
   "metadata": {},
   "source": [
    "# Задача 7. Функция сортировки"
   ]
  },
  {
   "cell_type": "code",
   "execution_count": 9,
   "id": "4cbad023",
   "metadata": {},
   "outputs": [
    {
     "name": "stdout",
     "output_type": "stream",
     "text": [
      "(1, 2, 3, 4, 5, 6, 7, 8, 9, 10)\n",
      "(1, 2, 3, 4, 5, 6, 7, 8, 9, 10)\n"
     ]
    }
   ],
   "source": [
    "def isint(numbs):\n",
    "    is_check = True\n",
    "    for n in numbs:\n",
    "        if n - int(n) != 0:\n",
    "            is_check = False\n",
    "            break\n",
    "    return is_check\n",
    "\n",
    "\n",
    "def quick_sort(s):\n",
    "    if len(s) <= 1:\n",
    "        return s\n",
    "    elem = s[len(s) // 2]\n",
    "    left = [i for i in s if i < elem]\n",
    "    center = [i for i in s if i == elem]\n",
    "    right = [i for i in s if i > elem]\n",
    "\n",
    "    return quick_sort(left) + center + quick_sort(right)\n",
    "\n",
    "\n",
    "# 1 способ\n",
    "def cort_sort(tpl):\n",
    "    if isint(tpl):\n",
    "        return tuple(sorted(tpl))\n",
    "    else:\n",
    "        return tpl\n",
    "\n",
    "\n",
    "# 2 способ\n",
    "def cort_quick(tle):\n",
    "    if isint(tle):\n",
    "        c_lst = list(tle)\n",
    "        n_tle = tuple(quick_sort(c_lst))\n",
    "        return n_tle\n",
    "    else:\n",
    "        return tle\n",
    "\n",
    "\n",
    "crt = (7, 10, 6, 3, 9, 1, 2, 8, 4, 5)\n",
    "print(cort_sort(crt))\n",
    "print(cort_quick(crt))\n"
   ]
  },
  {
   "cell_type": "markdown",
   "id": "df689649",
   "metadata": {},
   "source": [
    "# Задача 8. Контакты 3\n"
   ]
  },
  {
   "cell_type": "code",
   "execution_count": 16,
   "id": "6913bb5d",
   "metadata": {},
   "outputs": [
    {
     "name": "stdout",
     "output_type": "stream",
     "text": [
      "Введите действие: добавить контакт\n",
      "Введите ФИ: бЕЛОМОР ЛУК\n",
      "Введите номер телефона: 322323\n",
      "Чапман Елизавета: 74212155868\n",
      "Винстон Черчиль: 78439645565\n",
      "Джеки Чан: 73466420820\n",
      "Мальборо Джон: 74812669628\n",
      "Донской-Табак Игорь: 74862215945\n",
      "Кисс Маес: 742879301\n",
      "Камел Верблюд: 74958478376\n",
      "Беломор Иван: 74958478376\n",
      "Сенатор Клавдия: 7395436054\n",
      "Парламент Пал: 7384949328\n",
      "бЕЛОМОР ЛУК: 322323\n",
      "\n",
      "Введите действие: ПОИСК ЧЕЛОВЕКА ПО ФАМИЛИИ\n",
      "Введите фамилию: БЕЛОМОР\n",
      "Беломор Иван\n",
      "бЕЛОМОР ЛУК\n",
      "\n",
      "Введите действие: СТОП\n"
     ]
    }
   ],
   "source": [
    "def f_add(cont, ppl):\n",
    "    if cont.get(ppl) is not None:\n",
    "        print('Данный контакт уже записан!')\n",
    "        print()\n",
    "        return\n",
    "    else:\n",
    "        number = int(input('Введите номер телефона: '))\n",
    "        cont[ppl] = number\n",
    "        [print(f'{key}: {value}') for key, value in cont.items()]\n",
    "        print()\n",
    "        return\n",
    "\n",
    "\n",
    "def f_search(cont, ppl):\n",
    "    for key in cont.keys():\n",
    "        lst_key = key.split()\n",
    "        if lst_key[0].lower() == ppl.lower():\n",
    "            print(key)\n",
    "    print()\n",
    "\n",
    "\n",
    "contacts = {\n",
    "    'Чапман Елизавета': 74212155868,\n",
    "    'Винстон Черчиль': 78439645565,\n",
    "    'Джеки Чан': 73466420820,\n",
    "    'Мальборо Джон': 74812669628,\n",
    "    'Донской-Табак Игорь': 74862215945,\n",
    "    'Кисс Маес': 742879301,\n",
    "    'Камел Верблюд': 74958478376,\n",
    "    'Беломор Иван': 74958478376,\n",
    "    'Сенатор Клавдия': 7395436054,\n",
    "    'Парламент Пал': 7384949328\n",
    "}\n",
    "move = input('Введите действие: ').lower()\n",
    "while move != 'стоп':\n",
    "    if move == 'добавить контакт':\n",
    "        s_ppl = input('Введите ФИ: ')\n",
    "        f_add(contacts, s_ppl)\n",
    "    elif move == 'поиск человека по фамилии':\n",
    "        fam = input('Введите фамилию: ')\n",
    "        f_search(contacts, fam)\n",
    "    elif move != 'стоп' or move != 'добавить контакт' or move != 'поиск человека по фамилии':\n",
    "        print('Введите действие из предложенных')\n",
    "    move = input('Введите действие: ').lower()\n"
   ]
  },
  {
   "cell_type": "markdown",
   "id": "11f48484",
   "metadata": {},
   "source": [
    "# Задача 9. Протокол соревнований\n"
   ]
  },
  {
   "cell_type": "code",
   "execution_count": 27,
   "id": "6f2d80bf",
   "metadata": {},
   "outputs": [
    {
     "name": "stdout",
     "output_type": "stream",
     "text": [
      "Сколько записей вносится в протокол? 9\n",
      "1 запись: 69485 Jack \n",
      "2 запись: 95715 qwerty \n",
      "3 запись: 95715 Alex \n",
      "4 запись: 83647 M\n",
      "5 запись: 197128 qwerty \n",
      "6 запись: 95715 Jack \n",
      "7 запись: 93289 Alex \n",
      "8 запись: 95715 Alex \n",
      "9 запись: 95715 M\n",
      "Jack: [95715, -5, 'Jack']\n",
      "qwerty: [197128, -4, 'qwerty']\n",
      "Alex: [95715, -2, 'Alex']\n",
      "M: [95715, -8, 'M']\n",
      "1 место. qwerty (197128)\n",
      "2 место. Alex (95715)\n",
      "3 место. Jack (95715)\n"
     ]
    },
    {
     "data": {
      "text/plain": [
       "[None, None, None]"
      ]
     },
     "execution_count": 27,
     "metadata": {},
     "output_type": "execute_result"
    }
   ],
   "source": [
    "numb = int(input('Сколько записей вносится в протокол? '))\n",
    "dct = dict()\n",
    "for i in range(numb):\n",
    "    print(i + 1, 'запись: ', end='')\n",
    "    local_lst = [j for j in input().split()]\n",
    "    if dct.get(local_lst[1]) is None:\n",
    "        dct[local_lst[1]] = [int(local_lst[0]), -i, local_lst[1]]\n",
    "    else:\n",
    "        counter = dct[local_lst[1]][1]\n",
    "        max_score = dct[local_lst[1]][0]\n",
    "        if max_score < int(local_lst[0]):\n",
    "            max_score = int(local_lst[0])\n",
    "            counter = -i\n",
    "        dct[local_lst[1]] = [max_score, counter, local_lst[1]]\n",
    "# [print(f'{key}: {value}') for key, value in dct.items()]\n",
    "champ_lst = sorted(dct.values())\n",
    "[print(f'{i} место. {champ_lst[-i][2]} ({champ_lst[-i][0]})') for i in range(1, 4)]\n"
   ]
  },
  {
   "cell_type": "markdown",
   "id": "6b433384",
   "metadata": {},
   "source": [
    "# Задача 10. Своя функция zip \n"
   ]
  },
  {
   "cell_type": "code",
   "execution_count": 28,
   "id": "ee322e16",
   "metadata": {},
   "outputs": [
    {
     "name": "stdout",
     "output_type": "stream",
     "text": [
      "Введите строку: abcd\n",
      "Введите кортеж: \n",
      "10 20 30 40\n",
      "<generator object my_zip at 0x0000023A448BE8F0>\n",
      "('a', 10)\n",
      "('b', 20)\n",
      "('c', 30)\n",
      "('d', 40)\n"
     ]
    }
   ],
   "source": [
    "def my_zip(tpl, txt):\n",
    "    for i in range(min(len(tpl), len(txt))):\n",
    "        f_tpl = (txt[i], tpl[i])\n",
    "        yield f_tpl\n",
    "\n",
    "\n",
    "s_txt = input('Введите строку: ')\n",
    "print('Введите кортеж: ')\n",
    "s_tpl = tuple([int(i) for i in input().split()])\n",
    "gen = my_zip(s_tpl, s_txt)\n",
    "print(gen)\n",
    "for i in gen:\n",
    "    print(i)\n"
   ]
  },
  {
   "cell_type": "code",
   "execution_count": null,
   "id": "805fc19d",
   "metadata": {},
   "outputs": [],
   "source": []
  }
 ],
 "metadata": {
  "kernelspec": {
   "display_name": "Python 3 (ipykernel)",
   "language": "python",
   "name": "python3"
  },
  "language_info": {
   "codemirror_mode": {
    "name": "ipython",
    "version": 3
   },
   "file_extension": ".py",
   "mimetype": "text/x-python",
   "name": "python",
   "nbconvert_exporter": "python",
   "pygments_lexer": "ipython3",
   "version": "3.10.2"
  }
 },
 "nbformat": 4,
 "nbformat_minor": 5
}
