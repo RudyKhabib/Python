{
 "cells": [
  {
   "cell_type": "markdown",
   "id": "2a768542",
   "metadata": {},
   "source": [
    "# Задача 1. Налоги"
   ]
  },
  {
   "cell_type": "code",
   "execution_count": 4,
   "id": "58d45c4c",
   "metadata": {},
   "outputs": [
    {
     "name": "stdout",
     "output_type": "stream",
     "text": [
      "Укажите ваше состояние: 100\n",
      "Укажите стоимость автомобиля: 1000\n",
      "Укажите стоимость квартиры: 100000\n",
      "Укажите стоимость дачи: 1000000\n",
      "Вам не хватает для оплаты налога 2005.0\n"
     ]
    }
   ],
   "source": [
    "import property\n",
    "\n",
    "money = int(input('Укажите ваше состояние: '))\n",
    "car_cost = int(input('Укажите стоимость автомобиля: '))\n",
    "apartment_cost = int(input('Укажите стоимость квартиры: '))\n",
    "country_house_cost = int(input('Укажите стоимость дачи: '))\n",
    "auto = property.Car(car_cost)\n",
    "flat = property.Apartment(apartment_cost)\n",
    "vilagge = property.CountryHouse(country_house_cost)\n",
    "sum_of_tax = auto.charge() + flat.charge() + vilagge.charge()\n",
    "remains = money - sum_of_tax\n",
    "if remains >= 0:\n",
    "    print(f'У вас осталось на счету {remains}')\n",
    "else:\n",
    "    print(f'Вам не хватает для оплаты налога {-remains}')\n"
   ]
  },
  {
   "cell_type": "markdown",
   "id": "e3b20800",
   "metadata": {},
   "source": [
    "# Задача 2. Карма"
   ]
  },
  {
   "cell_type": "code",
   "execution_count": 1,
   "id": "9a077434",
   "metadata": {},
   "outputs": [
    {
     "name": "stdout",
     "output_type": "stream",
     "text": [
      "503\n"
     ]
    }
   ],
   "source": [
    "import buddhist\n",
    "import life\n",
    "\n",
    "\n",
    "human = buddhist.Buddhist()\n",
    "human_life = life.Life(human)\n",
    "human_life.all_life()\n",
    "print(human.karma)"
   ]
  },
  {
   "cell_type": "markdown",
   "id": "46c07ab2",
   "metadata": {},
   "source": [
    "# Задача 3. Свой словарь"
   ]
  },
  {
   "cell_type": "code",
   "execution_count": 5,
   "id": "a90ef93b",
   "metadata": {},
   "outputs": [
    {
     "name": "stdout",
     "output_type": "stream",
     "text": [
      "b\n",
      "b\n",
      "None\n",
      "0\n"
     ]
    }
   ],
   "source": [
    "import mydict\n",
    "\n",
    "dct = {1: 'a', 2: 'b'}\n",
    "mydct = mydict.MyDict({1: 'a', 2: 'b'})\n",
    "print(dct.get(2))\n",
    "print(mydct.get(2))\n",
    "print(dct.get(3))\n",
    "print(mydct.get(3))\n"
   ]
  },
  {
   "cell_type": "markdown",
   "id": "ab299254",
   "metadata": {},
   "source": [
    "# Задача 4. Компания"
   ]
  },
  {
   "cell_type": "code",
   "execution_count": 6,
   "id": "97f1e202",
   "metadata": {},
   "outputs": [
    {
     "name": "stdout",
     "output_type": "stream",
     "text": [
      "George Kipyashii 13000\n",
      "Serg Gorka 13000\n",
      "Vladimir Shlepelev 13000\n",
      "Evgen Infociganov 10000.0\n",
      "Mike Mikov 7500.0\n",
      "Vladimir Sphergatov 15000.0\n",
      "Limur Kavaiulin 36000\n",
      "Kaksim Momuakov 1000\n",
      "Sofa Vossiseysheva 18000\n"
     ]
    }
   ],
   "source": [
    "import company\n",
    "\n",
    "manager1 = company.Manager('George', 'Kipyashii', 28)\n",
    "manager2 = company.Manager('Serg', 'Gorka', 27)\n",
    "manager3 = company.Manager('Vladimir', 'Shlepelev', 32)\n",
    "agent1 = company.Agent('Evgen', 'Infociganov', 30, 100000)\n",
    "agent2 = company.Agent('Mike', 'Mikov', 36, 50000)\n",
    "agent3 = company.Agent('Vladimir', 'Sphergatov', 65, 200000)\n",
    "worker1 = company.Worker('Limur', 'Kavaiulin', 19, 12 * 30)\n",
    "worker2 = company.Worker('Kaksim', 'Momuakov', 20, 10)\n",
    "worker3 = company.Worker('Sofa', 'Vossiseysheva', 20, 6 * 30)\n",
    "list_of_employees = [manager1, manager2, manager3, agent1, agent2, agent3, worker1, worker2, worker3]\n",
    "[print(employy.get_name(), employy.get_surname(), employy.salary()) for employy in list_of_employees];\n"
   ]
  },
  {
   "cell_type": "markdown",
   "id": "3dcda24c",
   "metadata": {},
   "source": [
    "# Задача 5. А-а-автомобиль!"
   ]
  },
  {
   "cell_type": "code",
   "execution_count": 9,
   "id": "a8a6fb7b",
   "metadata": {},
   "outputs": [
    {
     "name": "stdout",
     "output_type": "stream",
     "text": [
      "70.0\n"
     ]
    },
    {
     "ename": "ValueError",
     "evalue": "Пассажиров не может быть меньше нуля",
     "output_type": "error",
     "traceback": [
      "\u001b[1;31m---------------------------------------------------------------------------\u001b[0m",
      "\u001b[1;31mValueError\u001b[0m                                Traceback (most recent call last)",
      "Input \u001b[1;32mIn [9]\u001b[0m, in \u001b[0;36m<cell line: 9>\u001b[1;34m()\u001b[0m\n\u001b[0;32m      7\u001b[0m bus\u001b[38;5;241m.\u001b[39mmove(\u001b[38;5;241m100\u001b[39m)\n\u001b[0;32m      8\u001b[0m \u001b[38;5;28mprint\u001b[39m(bus\u001b[38;5;241m.\u001b[39mmoney)\n\u001b[1;32m----> 9\u001b[0m \u001b[43mbus\u001b[49m\u001b[38;5;241;43m.\u001b[39;49m\u001b[43mexit\u001b[49m\u001b[43m(\u001b[49m\u001b[38;5;241;43m100\u001b[39;49m\u001b[43m)\u001b[49m\n",
      "File \u001b[1;32mC:\\Python programs\\auto.py:27\u001b[0m, in \u001b[0;36mBus.exit\u001b[1;34m(self, pas)\u001b[0m\n\u001b[0;32m     25\u001b[0m \u001b[38;5;28mself\u001b[39m\u001b[38;5;241m.\u001b[39mpassanger \u001b[38;5;241m-\u001b[39m\u001b[38;5;241m=\u001b[39m pas\n\u001b[0;32m     26\u001b[0m \u001b[38;5;28;01mif\u001b[39;00m \u001b[38;5;28mself\u001b[39m\u001b[38;5;241m.\u001b[39mpassanger \u001b[38;5;241m<\u001b[39m \u001b[38;5;241m0\u001b[39m:\n\u001b[1;32m---> 27\u001b[0m     \u001b[38;5;28;01mraise\u001b[39;00m \u001b[38;5;167;01mValueError\u001b[39;00m(\u001b[38;5;124m'\u001b[39m\u001b[38;5;124mПассажиров не может быть меньше нуля\u001b[39m\u001b[38;5;124m'\u001b[39m)\n",
      "\u001b[1;31mValueError\u001b[0m: Пассажиров не может быть меньше нуля"
     ]
    }
   ],
   "source": [
    "import math\n",
    "from auto import Bus\n",
    "\n",
    "bus = Bus(10, 10, 90)\n",
    "bus.enter(10)\n",
    "bus.exit(3)\n",
    "bus.move(100)\n",
    "print(bus.money)\n",
    "bus.exit(100)"
   ]
  },
  {
   "cell_type": "markdown",
   "id": "77311f83",
   "metadata": {},
   "source": [
    "# Задача 6. Совместное проживание v2.0"
   ]
  },
  {
   "cell_type": "code",
   "execution_count": 2,
   "id": "b5a74cb1",
   "metadata": {},
   "outputs": [
    {
     "name": "stdout",
     "output_type": "stream",
     "text": [
      "Муж умер от голода\n",
      "Жена умерла от голода\n",
      "Кот умер\n",
      "Сьедено 120 еды\n",
      "Заработано 1500 деняк\n",
      "Куплено 0 шуб\n",
      "Осталось 1460 деняк\n",
      "Осталось 0 еды\n",
      "Осталось 10 еды для кота\n",
      "Грязи 1875 \n"
     ]
    }
   ],
   "source": [
    "import familylife as life\n",
    "import familymembers as members\n",
    "\n",
    "nlk = members.House()\n",
    "husband1 = members.Husband('Евгений Степин', nlk)\n",
    "wife1 = members.Wife('Юлия Богданова', nlk)\n",
    "cat1 = members.Cat('George', nlk)\n",
    "life = life.Life(husband1, wife1, cat1, nlk)\n",
    "life.year()\n",
    "nlk.info()"
   ]
  },
  {
   "cell_type": "markdown",
   "id": "d1f406e0",
   "metadata": {},
   "source": [
    "# Задача 7. Стек"
   ]
  },
  {
   "cell_type": "code",
   "execution_count": 3,
   "id": "26914b8b",
   "metadata": {},
   "outputs": [
    {
     "name": "stdout",
     "output_type": "stream",
     "text": [
      "1 2 3 4 5 6 7 8 9 \n",
      "1 2 3 4 5 6 7 8 9 10 \n",
      "1 2 \n",
      "1 отдохнуть\n",
      "2 поесть; сдать дз\n",
      "4 сделать уборку; помыть посуду\n",
      "\n",
      "1 отдохнуть\n",
      "2 поесть; сдать дз\n",
      "4 сделать уборку\n",
      "\n",
      "2 поесть; сдать дз\n",
      "4 сделать уборку\n",
      "\n",
      "1 2 3 4 5 6 7 8 9 \n",
      "1 2 3 4 5 6 7 8 9 10 \n",
      "1 2 \n"
     ]
    }
   ],
   "source": [
    "import taskmanager\n",
    "import lifo\n",
    "\n",
    "manager = taskmanager.TaskManager()\n",
    "manager.new_task(\"сделать уборку\", 4)\n",
    "manager.new_task(\"помыть посуду\", 4)\n",
    "manager.new_task(\"отдохнуть\", 1)\n",
    "manager.new_task(\"поесть\", 2)\n",
    "manager.new_task(\"сдать дз\", 2)\n",
    "manager.print()\n",
    "print()\n",
    "manager.delete(\"помыть посуду\", 4)\n",
    "manager.print()\n",
    "print()\n",
    "manager.delete(\"отдохнуть\", 1)\n",
    "manager.print()\n",
    "print()\n",
    "lifo_lst = [1, 2, 3, 4, 5, 6, 7, 8, 9]\n",
    "lifo = lifo.Lifo(lifo_lst)\n",
    "lifo.show()\n",
    "lifo.add(10)\n",
    "lifo.show()\n",
    "lifo.delete(3)\n",
    "lifo.show()"
   ]
  }
 ],
 "metadata": {
  "kernelspec": {
   "display_name": "Python 3 (ipykernel)",
   "language": "python",
   "name": "python3"
  },
  "language_info": {
   "codemirror_mode": {
    "name": "ipython",
    "version": 3
   },
   "file_extension": ".py",
   "mimetype": "text/x-python",
   "name": "python",
   "nbconvert_exporter": "python",
   "pygments_lexer": "ipython3",
   "version": "3.10.2"
  }
 },
 "nbformat": 4,
 "nbformat_minor": 5
}
