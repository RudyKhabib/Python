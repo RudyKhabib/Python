{
 "cells": [
  {
   "cell_type": "markdown",
   "id": "3b8483d4",
   "metadata": {},
   "source": [
    "# Задача 1. Challenge "
   ]
  },
  {
   "cell_type": "code",
   "execution_count": 8,
   "id": "cc971666",
   "metadata": {
    "scrolled": true
   },
   "outputs": [
    {
     "name": "stdout",
     "output_type": "stream",
     "text": [
      "7\n",
      "6\n",
      "5\n",
      "4\n",
      "3\n",
      "2\n",
      "1\n"
     ]
    }
   ],
   "source": [
    "def fprint(num):\n",
    "    if num == 1:\n",
    "        print(num)\n",
    "    else:\n",
    "        print(num)\n",
    "        return fprint(num - 1)\n",
    "\n",
    "\n",
    "fprint(7)\n"
   ]
  },
  {
   "cell_type": "markdown",
   "id": "1b7cc456",
   "metadata": {},
   "source": [
    "# Задача 2. Свой zip "
   ]
  },
  {
   "cell_type": "code",
   "execution_count": 11,
   "id": "8bc788a1",
   "metadata": {},
   "outputs": [
    {
     "name": "stdout",
     "output_type": "stream",
     "text": [
      "('a', 1)\n",
      "('b', 2)\n",
      "('c', 3)\n",
      "('d', 4)\n"
     ]
    }
   ],
   "source": [
    "def my_zip(ob1, ob2):\n",
    "    return [(ob1[i], ob2[i]) for i in range(min(len(ob1), len(ob2)))]\n",
    "\n",
    "\n",
    "str1 = 'abcd'\n",
    "cort = (1, 2, 3, 4, 5)\n",
    "# lst = my_zip(str1, cort)\n",
    "[print(j) for j in my_zip(str1, cort)];\n"
   ]
  },
  {
   "cell_type": "markdown",
   "id": "66d0c26c",
   "metadata": {},
   "source": [
    "# Задача 3. Ряд Фибоначчи"
   ]
  },
  {
   "cell_type": "code",
   "execution_count": 11,
   "id": "0275db9b",
   "metadata": {},
   "outputs": [
    {
     "name": "stdout",
     "output_type": "stream",
     "text": [
      "Введите позицию числа в ряде Фибоначчи: 10\n",
      "55\n"
     ]
    }
   ],
   "source": [
    "def fib(n):\n",
    "    if n == 1 or n == 2:\n",
    "        return 1\n",
    "    else:\n",
    "        return fib(n - 1) + fib(n - 2)\n",
    "\n",
    "\n",
    "num_pos = int(input('Введите позицию числа в ряде Фибоначчи: '))\n",
    "print(fib(num_pos))\n"
   ]
  },
  {
   "cell_type": "markdown",
   "id": "9c700f37",
   "metadata": {},
   "source": [
    "# Задача 4. Поиск элемента "
   ]
  },
  {
   "cell_type": "code",
   "execution_count": 1,
   "id": "5cf157ef",
   "metadata": {
    "scrolled": true
   },
   "outputs": [
    {
     "name": "stdout",
     "output_type": "stream",
     "text": [
      "Введите ключ:p\n",
      "А вот здесь новый абзац\n"
     ]
    }
   ],
   "source": [
    "def search(dct, uk):\n",
    "    s = False\n",
    "    l_keys = [i for i in dct.keys()]\n",
    "    j = 0\n",
    "    if uk in l_keys:\n",
    "        s = dct[uk]\n",
    "    else:\n",
    "        while not s and j < len(l_keys):\n",
    "            if isinstance(dct[l_keys[j]], dict):\n",
    "                s = search(dct[l_keys[j]], uk)\n",
    "            j += 1\n",
    "    return s\n",
    "\n",
    "\n",
    "site = {\n",
    "    'html': {\n",
    "        'head': {\n",
    "            'title': 'Мой сайт'\n",
    "        },\n",
    "        'body': {\n",
    "            'h2': 'Здесь будет мой заголовок',\n",
    "            'div': 'Тут, наверное, какой-то блок',\n",
    "            'p': 'А вот здесь новый абзац'\n",
    "        }\n",
    "    }\n",
    "}\n",
    "user_key = input('Введите ключ:')\n",
    "print(search(site, user_key))\n"
   ]
  },
  {
   "cell_type": "markdown",
   "id": "2fb7fba4",
   "metadata": {},
   "source": [
    "# Задача 5. Ускоряем работу функции"
   ]
  },
  {
   "cell_type": "code",
   "execution_count": 3,
   "id": "a151eaa2",
   "metadata": {},
   "outputs": [
    {
     "name": "stdout",
     "output_type": "stream",
     "text": [
      "0.6648326359915008\n"
     ]
    }
   ],
   "source": [
    "def calculating_math_func(num):\n",
    "    return (factorial_dct(num) / num ** 3) ** 10\n",
    "\n",
    "\n",
    "def factorial_dct(num, dct={}):\n",
    "    if num <= 1:\n",
    "        return 1\n",
    "    else:\n",
    "        if dct.get(num) is None:\n",
    "            dct[num] = num * factorial_dct(num - 1, dct)\n",
    "        return dct[num]\n",
    "\n",
    "\n",
    "print(calculating_math_func(5))\n"
   ]
  },
  {
   "cell_type": "markdown",
   "id": "75779bcd",
   "metadata": {},
   "source": [
    "# Задача 6. Глубокое копирование"
   ]
  },
  {
   "cell_type": "code",
   "execution_count": 2,
   "id": "57475788",
   "metadata": {},
   "outputs": [
    {
     "name": "stdout",
     "output_type": "stream",
     "text": [
      "Сколько сайтов: 2\n",
      "Введите название продукта для нового сайта: iphone\n",
      "Сайт для iphone:\n",
      "site = {\n",
      "\t 'html' : {\n",
      "\t\t 'head' : {\n",
      "\t\t\t 'title' : Куплю/продам iphone недорого\n",
      "\t\t 'body' : {\n",
      "\t\t\t 'h2' : У нас самая низкая цена на iphone\n",
      "\t\t\t 'div' : Купить\n",
      "\t\t\t 'p' : Продать\n",
      "Введите название продукта для нового сайта: samsung\n",
      "Сайт для samsung:\n",
      "site = {\n",
      "\t 'html' : {\n",
      "\t\t 'head' : {\n",
      "\t\t\t 'title' : Куплю/продам samsung недорого\n",
      "\t\t 'body' : {\n",
      "\t\t\t 'h2' : У нас самая низкая цена на samsung\n",
      "\t\t\t 'div' : Купить\n",
      "\t\t\t 'p' : Продать\n"
     ]
    }
   ],
   "source": [
    "def dic_print(dct, lvl=1):\n",
    "    start_lvl = lvl\n",
    "    for key in dct.keys():\n",
    "        lvl = start_lvl\n",
    "        if type(dct[key]) == dict:\n",
    "            lvl += 1\n",
    "            print('\\t' * (lvl - 1), f\"'{key}' : {'{'}\")\n",
    "            dic_print(dct[key], lvl)\n",
    "        else:\n",
    "            print('\\t' * lvl, f\"'{key}' : {dct[key]}\")\n",
    "\n",
    "\n",
    "def f_site(tel):\n",
    "    site = {\n",
    "        'html': {\n",
    "            'head': {\n",
    "                'title': f'Куплю/продам {tel} недорого'\n",
    "            },\n",
    "            'body': {\n",
    "                'h2': f'У нас самая низкая цена на {tel}',\n",
    "                'div': 'Купить',\n",
    "                'p': 'Продать'\n",
    "            }\n",
    "        }\n",
    "    }\n",
    "    return site\n",
    "\n",
    "\n",
    "n_site = int(input('Сколько сайтов: '))\n",
    "for i in range(n_site):\n",
    "    tlf = input('Введите название продукта для нового сайта: ')\n",
    "    print(f'Сайт для {tlf}:')\n",
    "    print('site = {')\n",
    "    dic_print(f_site(tlf))\n"
   ]
  },
  {
   "cell_type": "markdown",
   "id": "597bf22c",
   "metadata": {},
   "source": [
    "# Задача 7. Продвинутая функция sum "
   ]
  },
  {
   "cell_type": "code",
   "execution_count": 2,
   "id": "5529ef0e",
   "metadata": {},
   "outputs": [
    {
     "name": "stdout",
     "output_type": "stream",
     "text": [
      "10\n"
     ]
    }
   ],
   "source": [
    "def sum_(lst):\n",
    "    s = 0\n",
    "    for i in lst:\n",
    "        if type(i) == list:\n",
    "            s += sum_(i)\n",
    "        else:\n",
    "            s += i\n",
    "    return s\n",
    "\n",
    "\n",
    "print(sum_([[1, 2, [3]], [1], 3]))\n"
   ]
  },
  {
   "cell_type": "markdown",
   "id": "2f38c2bf",
   "metadata": {},
   "source": [
    "# Задача 8. Список списков "
   ]
  },
  {
   "cell_type": "code",
   "execution_count": 4,
   "id": "f5b04230",
   "metadata": {},
   "outputs": [
    {
     "name": "stdout",
     "output_type": "stream",
     "text": [
      "[1, 2, 3, 4, 5, 6, 7, 8, 9, 10, 11, 12, 13, 14, 15, 16, 17, 18]\n"
     ]
    }
   ],
   "source": [
    "def unboxing(lst):\n",
    "    s = list()\n",
    "    for i in lst:\n",
    "        if type(i) == list:\n",
    "            s.extend(unboxing(i))\n",
    "        else:\n",
    "            s.append(i)\n",
    "    return s\n",
    "\n",
    "\n",
    "nice_list = [1, 2, [3, 4], [[5, 6, 7], [8, 9, 10]], [[11, 12, 13], [14, 15], [16, 17, 18]]]\n",
    "print(unboxing(nice_list))\n"
   ]
  },
  {
   "cell_type": "markdown",
   "id": "22b98272",
   "metadata": {},
   "source": [
    "# Задача 9. Ханойские башни "
   ]
  },
  {
   "cell_type": "code",
   "execution_count": 3,
   "id": "b5cdbda4",
   "metadata": {},
   "outputs": [
    {
     "name": "stdout",
     "output_type": "stream",
     "text": [
      "Введите количество дисков: 2\n",
      "Переложить диск 1 со стержня номер 1 на стержень номер 2\n",
      "Переложить диск 2 со стержня номер 1 на стержень номер 3\n",
      "Переложить диск 1 со стержня номер 2 на стержень номер 3\n"
     ]
    }
   ],
   "source": [
    "def tower_of_hanoi(numbers, start, auxiliary, end):\n",
    "    if numbers == 1:\n",
    "        print(f'Переложить диск 1 со стержня номер {start} на стержень номер {end}')\n",
    "        return\n",
    "    tower_of_hanoi(numbers - 1, start, end, auxiliary)\n",
    "    print(f'Переложить диск {numbers} со стержня номер {start} на стержень номер {end}')\n",
    "    tower_of_hanoi(numbers - 1, auxiliary, start, end)\n",
    "\n",
    "\n",
    "numbers = int(input('Введите количество дисков: '))\n",
    "tower_of_hanoi(numbers, '1', '2', '3')\n"
   ]
  }
 ],
 "metadata": {
  "kernelspec": {
   "display_name": "Python 3 (ipykernel)",
   "language": "python",
   "name": "python3"
  },
  "language_info": {
   "codemirror_mode": {
    "name": "ipython",
    "version": 3
   },
   "file_extension": ".py",
   "mimetype": "text/x-python",
   "name": "python",
   "nbconvert_exporter": "python",
   "pygments_lexer": "ipython3",
   "version": "3.10.2"
  }
 },
 "nbformat": 4,
 "nbformat_minor": 5
}
