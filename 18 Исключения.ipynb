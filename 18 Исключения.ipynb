{
 "cells": [
  {
   "cell_type": "markdown",
   "id": "e10124de",
   "metadata": {},
   "source": [
    "# Задача 1. Имена "
   ]
  },
  {
   "cell_type": "code",
   "execution_count": 2,
   "id": "88751c32",
   "metadata": {},
   "outputs": [
    {
     "name": "stdout",
     "output_type": "stream",
     "text": [
      "30\n"
     ]
    }
   ],
   "source": [
    "line_counter = 1\n",
    "ltr_counter = 0\n",
    "line_lst = list()\n",
    "with open('people.txt', 'r') as inf:\n",
    "    for line in inf:\n",
    "        ltr_counter += len(line.strip())\n",
    "        if len(line.strip()) < 3:\n",
    "            line_lst.append(line_counter)\n",
    "        line_counter += 1\n",
    "print(ltr_counter)\n",
    "with open('errors.log', 'w') as ouf:\n",
    "    [ouf.write(f'{str(i)}\\n') for i in line_lst]\n"
   ]
  },
  {
   "cell_type": "markdown",
   "id": "9b33ea31",
   "metadata": {},
   "source": [
    "# Задача 2. Координаты"
   ]
  },
  {
   "cell_type": "code",
   "execution_count": 1,
   "id": "fa2203b7",
   "metadata": {},
   "outputs": [],
   "source": [
    "import random\n",
    "\n",
    "\n",
    "def f(x, y):\n",
    "    x += random.randint(0, 10)\n",
    "    y += random.randint(0, 5)\n",
    "    return x / y\n",
    "\n",
    "\n",
    "def f2(x, y):\n",
    "    x -= random.randint(0, 10)\n",
    "    y -= random.randint(0, 5)\n",
    "    return y / x\n",
    "\n",
    "\n",
    "file = open('coordinates.txt', 'r')\n",
    "file_2 = open('result.txt', 'w')\n",
    "try:\n",
    "    for line in file:\n",
    "        nums_list = line.split()\n",
    "        res1 = f(int(nums_list[0]), int(nums_list[1]))\n",
    "        try:\n",
    "            res2 = f2(int(nums_list[0]), int(nums_list[1]))\n",
    "            try:\n",
    "                number = random.randint(0, 100)\n",
    "                my_list = sorted([res1, res2, number])\n",
    "                file_2.write(' '.join(map(str, my_list)))\n",
    "                file_2.write('\\n')\n",
    "            except Exception:\n",
    "                print(\"Что-то пошло не так : \")\n",
    "        except Exception:\n",
    "            file_2.write('Что-то пошло не так')\n",
    "            file_2.write('\\n')\n",
    "            print('Что-то пошло не так')\n",
    "except Exception:\n",
    "    print(\"Что-то пошло не так с первой функцией\")\n",
    "\n",
    "finally:\n",
    "    file_2.close()\n",
    "    file.close()"
   ]
  },
  {
   "cell_type": "markdown",
   "id": "48a027d8",
   "metadata": {},
   "source": [
    "# Задача 3. Счастливое число"
   ]
  },
  {
   "cell_type": "code",
   "execution_count": 1,
   "id": "5babb53b",
   "metadata": {},
   "outputs": [
    {
     "name": "stdout",
     "output_type": "stream",
     "text": [
      "Введите число:2\n",
      "Введите число:2\n",
      "Введите число:2\n",
      "Введите число:2\n",
      "Введите число:2\n",
      "Введите число:2\n",
      "Введите число:2\n",
      "Введите число:2\n",
      "Введите число:2\n"
     ]
    },
    {
     "ename": "BaseException",
     "evalue": "",
     "output_type": "error",
     "traceback": [
      "\u001b[1;31m---------------------------------------------------------------------------\u001b[0m",
      "\u001b[1;31mBaseException\u001b[0m                             Traceback (most recent call last)",
      "Input \u001b[1;32mIn [1]\u001b[0m, in \u001b[0;36m<cell line: 6>\u001b[1;34m()\u001b[0m\n\u001b[0;32m     11\u001b[0m luck \u001b[38;5;241m=\u001b[39m random\u001b[38;5;241m.\u001b[39mrandint(\u001b[38;5;241m0\u001b[39m, \u001b[38;5;241m12\u001b[39m)\n\u001b[0;32m     12\u001b[0m \u001b[38;5;28;01mif\u001b[39;00m luck \u001b[38;5;241m==\u001b[39m \u001b[38;5;241m6\u001b[39m:\n\u001b[1;32m---> 13\u001b[0m     \u001b[38;5;28;01mraise\u001b[39;00m \u001b[38;5;167;01mBaseException\u001b[39;00m\n",
      "\u001b[1;31mBaseException\u001b[0m: "
     ]
    }
   ],
   "source": [
    "import random\n",
    "\n",
    "summ = 0\n",
    "# lst_errors = ['BaseException', 'ValueError', 'ZeroDivisionError', 'IOError', 'EOFError', 'NameError', 'SyntaxError']\n",
    "f = open('1803.txt', 'w')\n",
    "f.close()\n",
    "while summ < 777:\n",
    "    numb = int(input('Введите число:'))\n",
    "    summ += numb\n",
    "    with open('1803.txt', 'a') as ouf:\n",
    "        ouf.write(f'{str(numb)}\\n')\n",
    "    luck = random.randint(0, 12)\n",
    "    if luck == 6:\n",
    "        raise BaseException\n",
    "        "
   ]
  },
  {
   "cell_type": "markdown",
   "id": "4734c382",
   "metadata": {},
   "source": [
    "# Задача 4. Регистрация"
   ]
  },
  {
   "cell_type": "code",
   "execution_count": 4,
   "id": "a6b9b601",
   "metadata": {},
   "outputs": [],
   "source": [
    "alphabet = 'abcdefghijklmnopqrstuvwxyz'\n",
    "f1 = open('registrations_bad.log', 'w')\n",
    "f1.close()\n",
    "f2 = open('registrations_good.log', 'w')\n",
    "f2.close()\n",
    "with open('registrations.txt', 'r') as inf:\n",
    "    for line in inf:\n",
    "        local_lst = line.strip().split()\n",
    "        users_lst.append(local_lst)\n",
    "        check_alpha = True\n",
    "        check_dog = False\n",
    "        check_point = False\n",
    "        for ltr in local_lst[0]:\n",
    "            if ltr not in alphabet and ltr not in alphabet.upper():\n",
    "                check_alpha = False\n",
    "                print(ltr)\n",
    "        for ltr in local_lst[1]:\n",
    "            if ltr == '@':\n",
    "                check_dog = True\n",
    "            elif ltr == '.':\n",
    "                check_point = True\n",
    "        try:\n",
    "            if len(local_lst) != 3 or int(local_lst[2]) < 10 or int(local_lst[2]) > 99:\n",
    "                raise ValueError\n",
    "            elif not check_alpha:\n",
    "                raise NameError\n",
    "            elif not check_dog or not check_point:\n",
    "                raise SyntaxError\n",
    "        except ValueError:\n",
    "            with open('registrations_bad.log', 'a') as ouf:\n",
    "                ouf.write(f'{line.strip()} Value Error \\n')\n",
    "        except NameError:\n",
    "            with open('registrations_bad.log', 'a') as ouf:\n",
    "                 ouf.write(f'{line.strip()} NameError \\n')\n",
    "        except SyntaxError:\n",
    "            with open('registrations_bad.log', 'a') as ouf:\n",
    "                ouf.write(f'{line.strip()} SyntaxError \\n')\n",
    "        else:\n",
    "            with open('registrations_good.log', 'a') as ouf:\n",
    "                ouf.write(f'{line.strip()} \\n')\n",
    "                "
   ]
  },
  {
   "cell_type": "markdown",
   "id": "547b3c7e",
   "metadata": {},
   "source": [
    "# Задача 5. Текстовый калькулятор"
   ]
  },
  {
   "cell_type": "code",
   "execution_count": 5,
   "id": "b4c79dc0",
   "metadata": {},
   "outputs": [
    {
     "name": "stdout",
     "output_type": "stream",
     "text": [
      "Неверна записана 1 строчка\n",
      "Неверна записана 4 строчка\n",
      "Неверна записана 5 строчка\n",
      "209.0\n"
     ]
    }
   ],
   "source": [
    "# operands = '/ * + - % // **'\n",
    "summ = 0\n",
    "line_index = 1\n",
    "with open('calc.txt', 'r') as inf:\n",
    "    for line in inf:\n",
    "        local_lst = line.strip().split()\n",
    "        try:\n",
    "            if local_lst[1] == '/':\n",
    "                summ += int(local_lst[0]SS) / int(local_lst[2])\n",
    "            elif local_lst[1] == '*':\n",
    "                summ += int(local_lst[0]) * int(local_lst[2])\n",
    "            elif local_lst[1] == '+':\n",
    "                summ += int(local_lst[0]) + int(local_lst[2])\n",
    "            elif local_lst[1] == '-':\n",
    "                summ += int(local_lst[0]) - int(local_lst[2])\n",
    "            elif local_lst[1] == '%':\n",
    "                summ += int(local_lst[0]) % int(local_lst[2])\n",
    "            elif local_lst[1] == '//':\n",
    "                summ += int(local_lst[0]) // int(local_lst[2])\n",
    "            elif local_lst[1] == '**':\n",
    "                summ += int(local_lst[0]) ** int(local_lst[2])\n",
    "            else:\n",
    "                raise Exception\n",
    "        except:\n",
    "            print(f'Неверна записана {line_index} строчка')\n",
    "        line_index += 1\n",
    "print(summ)\n"
   ]
  },
  {
   "cell_type": "markdown",
   "id": "058a85aa",
   "metadata": {},
   "source": [
    "# Задача 6. Чат"
   ]
  },
  {
   "cell_type": "code",
   "execution_count": 3,
   "id": "6c91c332",
   "metadata": {},
   "outputs": [
    {
     "name": "stdout",
     "output_type": "stream",
     "text": [
      "Введите имя: Полина\n",
      "Выйти из чата - 0\n",
      "Посмотреть текущий текст чата - 1\n",
      "Отправить сообщение - 2\n",
      "Введите действие: 1\n",
      "\n",
      "Руди : Дора краш \n",
      "Вадим : Кока краш \n",
      "Введите действие: 2\n",
      "Введите сообщение: Кирилл краш\n",
      "Введите действие: 1\n",
      "\n",
      "Руди : Дора краш \n",
      "Вадим : Кока краш \n",
      "Полина : Кирилл краш \n",
      "Введите действие: 0\n",
      "Выход из чата\n"
     ]
    }
   ],
   "source": [
    "name = input('Введите имя: ')\n",
    "print('Выйти из чата - 0')\n",
    "print('Посмотреть текущий текст чата - 1')\n",
    "print('Отправить сообщение - 2')\n",
    "s = input('Введите действие: ')\n",
    "while s != '0':\n",
    "    if s == '1':\n",
    "        try:\n",
    "            with open('chat.txt') as inf:\n",
    "                for message in inf:\n",
    "                    print(message, end='')\n",
    "        except FileNotFoundError:\n",
    "            print('Сообщений нет')\n",
    "    elif s == '2':\n",
    "        message = input('Введите сообщение: ')\n",
    "        with open('chat.txt', 'a') as ouf:\n",
    "            ouf.write(f'{name} : {message} \\n')\n",
    "    else:\n",
    "        print('Такого действия нет')\n",
    "    s = input('Введите действие: ')\n",
    "print('Выход из чата')"
   ]
  },
  {
   "cell_type": "markdown",
   "id": "02a8d6d9",
   "metadata": {},
   "source": [
    "# Задача 7. Текстовый калькулятор 2\n"
   ]
  },
  {
   "cell_type": "code",
   "execution_count": 6,
   "id": "ac5fecb1",
   "metadata": {},
   "outputs": [
    {
     "name": "stdout",
     "output_type": "stream",
     "text": [
      "Обнаружена ошибка в строке: 100 1 2 Хотите исправить? да\n",
      "Введите исправленную строку: 100 + 2\n",
      "Обнаружена ошибка в строке: 30*3 Хотите исправить? нет\n",
      "Обнаружена ошибка в строке: sad * 12 Хотите исправить? нет\n",
      "311.0\n"
     ]
    }
   ],
   "source": [
    "operands = '/ * + - % // **'\n",
    "summ = 0\n",
    "with open('calc.txt', 'r') as inf:\n",
    "    for line in inf:\n",
    "        local_lst = line.strip().split()\n",
    "        exception_check = True\n",
    "        answer_check = True\n",
    "        try:\n",
    "            int(local_lst[0])\n",
    "            int(local_lst[2])\n",
    "            if local_lst[1] == '/' and int(local_lst[2]) == 0:\n",
    "                raise Exception\n",
    "            if local_lst[1] not in operands:\n",
    "                raise Exception\n",
    "        except Exception:\n",
    "            exception_check = False\n",
    "            print(f'Обнаружена ошибка в строке: {line.strip()}', end=' ')\n",
    "            answer = input('Хотите исправить? ')\n",
    "            if answer.lower() != 'да':\n",
    "                answer_check = False\n",
    "            else:\n",
    "                print('Введите исправленную строку: ', end='')\n",
    "                local_lst = [i for i in input().split()]\n",
    "        if exception_check or answer_check:\n",
    "            if local_lst[1] == '/':\n",
    "                summ += int(local_lst[0]) / int(local_lst[2])\n",
    "            elif local_lst[1] == '*':\n",
    "                summ += int(local_lst[0]) * int(local_lst[2])\n",
    "            elif local_lst[1] == '+':\n",
    "                summ += int(local_lst[0]) + int(local_lst[2])\n",
    "            elif local_lst[1] == '-':\n",
    "                summ += int(local_lst[0]) - int(local_lst[2])\n",
    "            elif local_lst[1] == '%':\n",
    "                summ += int(local_lst[0]) % int(local_lst[2])\n",
    "            elif local_lst[1] == '//':\n",
    "                summ += int(local_lst[0]) // int(local_lst[2])\n",
    "            elif local_lst[1] == '**':\n",
    "                summ += int(local_lst[0]) ** int(local_lst[2])\n",
    "print(summ)\n"
   ]
  }
 ],
 "metadata": {
  "kernelspec": {
   "display_name": "Python 3 (ipykernel)",
   "language": "python",
   "name": "python3"
  },
  "language_info": {
   "codemirror_mode": {
    "name": "ipython",
    "version": 3
   },
   "file_extension": ".py",
   "mimetype": "text/x-python",
   "name": "python",
   "nbconvert_exporter": "python",
   "pygments_lexer": "ipython3",
   "version": "3.10.2"
  }
 },
 "nbformat": 4,
 "nbformat_minor": 5
}
